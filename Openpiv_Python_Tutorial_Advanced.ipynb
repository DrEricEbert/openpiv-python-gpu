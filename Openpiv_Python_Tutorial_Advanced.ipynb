{
 "cells": [
  {
   "cell_type": "markdown",
   "metadata": {},
   "source": [
    "[![Open In Colab](https://colab.research.google.com/assets/colab-badge.svg)](https://colab.research.google.com/github/ericyang125/gpu-mp/blob/windef/Openpiv_Python_Tutorial.ipynb)"
   ]
  },
  {
   "cell_type": "markdown",
   "metadata": {},
   "source": [
    "# Openpiv-python-gpu Tutorial"
   ]
  },
  {
   "cell_type": "markdown",
   "metadata": {},
   "source": [
    "## Introduction\n",
    "This tutorial will demonstrate how to use the GPU functionality of openpiv-python-gpu.\n",
    "There are two GPU-accelerated functions in the GPU-accelerated library--both will be shown here.\n",
    "Multiprocessing can be used to run multiple PIV processes on the same or multple GPUs, and this will be demonstrated as well."
   ]
  },
  {
   "cell_type": "markdown",
   "metadata": {
    "pycharm": {
     "name": "#%% md\n"
    }
   },
   "source": [
    "### openpiv.gpu_process.widim(frame_a, frame_b, **pars)\n",
    "This advanced function uses windows displacment and deformation to handle higher velocity gradients.\n",
    "\n",
    "Parameters:\n",
    "\n",
    "    frame_a, frame_b : array_like\n",
    "        2D, Image data as arrays. Floats are cast to int32.\n",
    "    window_sizes : tuple or int\n",
    "        Window sizes to interrogate over. Default is (32, 16).\n",
    "    iterations : tuple or int\n",
    "        Number of iterations to perform. Default is 1.\n",
    "    overlap_ratio : float\n",
    "        Ratio of overlap of interrogation windows to size of windows. Default is 0.5.\n",
    "    mask : array_like\n",
    "        2D bool, mask to apply to the image field. If None, no points are masked. Default is None.\n",
    "    win_def : bool\n",
    "        Whether to apply deformation using the gradient computed on the results of the previous iteration. Default is True.\n",
    "    dt : int\n",
    "        Time separation between frames. The velcity vectors are scaled by the inverse of this quantity. Default is 1.\n",
    "    nb_validation_iter : tuple or int\n",
    "        Number of validation iterations to perform each iteration. Default is 1.\n",
    "    median_tol : float\n",
    "        Tolerance of the median validation. Equal to (value at point - median of surrounding points) / (median of (value of surrounding points - median of surrounding pointss)). Default is 2.\n",
    "    trust_1st_iter : bool\n",
    "        Whether the validation is performed on the first iteration. Typically can be set to False for 62 px windows. Default is True.\n",
    "\n",
    "Returns:\n",
    "\n",
    "    x, y : ndarray\n",
    "        Coordinates of the velocity vectors.\n",
    "    u, v : ndarray\n",
    "        Resulting velocity field.\n",
    "    mask : ndarray\n",
    "        The masked points on the returned coordinates\n",
    "    s2n : ndarray\n",
    "        The signal-to-noise ratio at each point of the result."
   ]
  },
  {
   "cell_type": "markdown",
   "metadata": {
    "pycharm": {
     "name": "#%% md\n"
    }
   },
   "source": [
    "### Example"
   ]
  },
  {
   "cell_type": "code",
   "execution_count": null,
   "outputs": [],
   "source": [
    "Get the \n",
    "!nvidia-smi"
   ],
   "metadata": {
    "collapsed": false,
    "pycharm": {
     "name": "#%%\n"
    }
   }
  },
  {
   "cell_type": "code",
   "execution_count": null,
   "metadata": {},
   "outputs": [],
   "source": [
    "import os\n",
    "import numpy\n",
    "import imageio as io\n",
    "\n",
    "# import the gpu module and the tools module\n",
    "import openpiv.gpu_process as gpu_process\n",
    "import openpiv.tools as tools"
   ]
  },
  {
   "cell_type": "code",
   "execution_count": 2,
   "metadata": {
    "pycharm": {
     "name": "#%%\n"
    }
   },
   "outputs": [
    {
     "ename": "ModuleNotFoundError",
     "evalue": "No module named 'openpiv.gpu_process'",
     "output_type": "error",
     "traceback": [
      "\u001B[1;31m---------------------------------------------------------------------------\u001B[0m",
      "\u001B[1;31mModuleNotFoundError\u001B[0m                       Traceback (most recent call last)",
      "\u001B[1;32m<ipython-input-2-bf94416a99d2>\u001B[0m in \u001B[0;36m<module>\u001B[1;34m\u001B[0m\n\u001B[0;32m      4\u001B[0m \u001B[1;33m\u001B[0m\u001B[0m\n\u001B[0;32m      5\u001B[0m \u001B[1;31m# import the gpu module and the tools module\u001B[0m\u001B[1;33m\u001B[0m\u001B[1;33m\u001B[0m\u001B[1;33m\u001B[0m\u001B[0m\n\u001B[1;32m----> 6\u001B[1;33m \u001B[1;32mimport\u001B[0m \u001B[0mopenpiv\u001B[0m\u001B[1;33m.\u001B[0m\u001B[0mgpu_process\u001B[0m \u001B[1;32mas\u001B[0m \u001B[0mgpu_process\u001B[0m\u001B[1;33m\u001B[0m\u001B[1;33m\u001B[0m\u001B[0m\n\u001B[0m\u001B[0;32m      7\u001B[0m \u001B[1;32mimport\u001B[0m \u001B[0mopenpiv\u001B[0m\u001B[1;33m.\u001B[0m\u001B[0mtools\u001B[0m \u001B[1;32mas\u001B[0m \u001B[0mtools\u001B[0m\u001B[1;33m\u001B[0m\u001B[1;33m\u001B[0m\u001B[0m\n",
      "\u001B[1;31mModuleNotFoundError\u001B[0m: No module named 'openpiv.gpu_process'"
     ]
    }
   ],
   "source": [
    "import os\n",
    "import numpy\n",
    "import imageio as io\n",
    "\n",
    "# import the gpu module and the tools module\n",
    "import openpiv.gpu_process as gpu_process\n",
    "import openpiv.tools as tools"
   ]
  },
  {
   "cell_type": "code",
   "execution_count": 4,
   "metadata": {
    "pycharm": {
     "name": "#%%\n"
    }
   },
   "outputs": [],
   "source": [
    "# PIV parameters\n",
    "pars = {\n",
    "'window_sizes': (32, 16),\n",
    "'iterations': (1, 2),\n",
    "'overlap_ratio': 0.5,\n",
    "'mask': None,\n",
    "'win_def': True,\n",
    "'dt': 1,\n",
    "'nb_validation_iter': 1,\n",
    "'median_tol': 2,\n",
    "'trust_1st_iter': False\n",
    "}"
   ]
  },
  {
   "cell_type": "code",
   "execution_count": null,
   "metadata": {},
   "outputs": [],
   "source": [
    "# The images can be loaded using imageio.\n",
    "frame_a  = io.imread('exp1_001_a.bmp')\n",
    "frame_b  = io.imread('exp1_001_b.bmp')"
   ]
  },
  {
   "cell_type": "code",
   "execution_count": 3,
   "metadata": {
    "pycharm": {
     "name": "#%%\n"
    }
   },
   "outputs": [
    {
     "ename": "NameError",
     "evalue": "name 'openpiv' is not defined",
     "output_type": "error",
     "traceback": [
      "\u001B[1;31m---------------------------------------------------------------------------\u001B[0m",
      "\u001B[1;31mNameError\u001B[0m                                 Traceback (most recent call last)",
      "\u001B[1;32m<ipython-input-3-c096ef4274c4>\u001B[0m in \u001B[0;36m<module>\u001B[1;34m\u001B[0m\n\u001B[0;32m      1\u001B[0m \u001B[1;31m# The velocity fields are computed.\u001B[0m\u001B[1;33m\u001B[0m\u001B[1;33m\u001B[0m\u001B[1;33m\u001B[0m\u001B[0m\n\u001B[1;32m----> 2\u001B[1;33m x, y, u, v, mask, s2n = openpiv.gpu_process.WiDIM( frame_a.astype(np.int32), frame_b.astype(np.int32), np.ones(frame_a.shape, dtype=np.int32),\n\u001B[0m\u001B[0;32m      3\u001B[0m                                                      \u001B[0mmin_window_size\u001B[0m\u001B[1;33m,\u001B[0m\u001B[1;33m\u001B[0m\u001B[1;33m\u001B[0m\u001B[0m\n\u001B[0;32m      4\u001B[0m                                                      \u001B[0moverlap_ratio\u001B[0m\u001B[1;33m,\u001B[0m\u001B[1;33m\u001B[0m\u001B[1;33m\u001B[0m\u001B[0m\n\u001B[0;32m      5\u001B[0m                                                      \u001B[0mcoarse_factor\u001B[0m\u001B[1;33m,\u001B[0m\u001B[1;33m\u001B[0m\u001B[1;33m\u001B[0m\u001B[0m\n",
      "\u001B[1;31mNameError\u001B[0m: name 'openpiv' is not defined"
     ]
    }
   ],
   "source": [
    "# The velocity fields are computed.\n",
    "x, y, u, v, mask, s2n = openpiv.gpu_process.WiDIM(frame_a, frame_b, **pars)"
   ]
  },
  {
   "cell_type": "code",
   "execution_count": 5,
   "metadata": {},
   "outputs": [
    {
     "ename": "NameError",
     "evalue": "name 'tools' is not defined",
     "output_type": "error",
     "traceback": [
      "\u001B[1;31m---------------------------------------------------------------------------\u001B[0m",
      "\u001B[1;31mNameError\u001B[0m                                 Traceback (most recent call last)",
      "\u001B[1;32m<ipython-input-5-15f56d8567a7>\u001B[0m in \u001B[0;36m<module>\u001B[1;34m\u001B[0m\n\u001B[0;32m      1\u001B[0m \u001B[1;31m# Save the results to a text file.\u001B[0m\u001B[1;33m\u001B[0m\u001B[1;33m\u001B[0m\u001B[1;33m\u001B[0m\u001B[0m\n\u001B[1;32m----> 2\u001B[1;33m \u001B[0mtools\u001B[0m\u001B[1;33m.\u001B[0m\u001B[0msave\u001B[0m\u001B[1;33m(\u001B[0m\u001B[0mx\u001B[0m\u001B[1;33m,\u001B[0m \u001B[0my\u001B[0m\u001B[1;33m,\u001B[0m \u001B[0mu\u001B[0m\u001B[1;33m,\u001B[0m \u001B[0mv\u001B[0m\u001B[1;33m,\u001B[0m \u001B[0mmask\u001B[0m\u001B[1;33m,\u001B[0m \u001B[0ms2n\u001B[0m\u001B[1;33m,\u001B[0m \u001B[1;34m'exp1_001_gpu.txt'\u001B[0m\u001B[1;33m)\u001B[0m\u001B[1;33m\u001B[0m\u001B[1;33m\u001B[0m\u001B[0m\n\u001B[0m",
      "\u001B[1;31mNameError\u001B[0m: name 'tools' is not defined"
     ]
    }
   ],
   "source": [
    "# Save the results to a text file.\n",
    "tools.save(x, y, u, v, mask, s2n, 'exp1_001_gpu.txt')"
   ]
  },
  {
   "cell_type": "code",
   "execution_count": null,
   "metadata": {},
   "outputs": [],
   "source": [
    "# The results can be visualized using the openpiv.tools module.\n",
    "tools.display_vector_field('exp1_001_gpu.txt', scale=5000, width=0.0025)"
   ]
  },
  {
   "cell_type": "markdown",
   "metadata": {
    "pycharm": {
     "name": "#%%\n"
    }
   },
   "source": [
    "## Multiprocessing\n",
    "Multiprocessing is useful for multiple GPUs or if a single process does not use all GPU memory.\n",
    "Multiple threads decreases batch process time by fully using the memory transfer bandwith, which is a bottleneck.\n",
    "However, there are decreasing returns because each GPU can only execute a single CUDA kernel at once under the current implementation."
   ]
  },
  {
   "cell_type": "markdown",
   "metadata": {
    "pycharm": {
     "name": "#%% md\n"
    }
   },
   "source": [
    "This is WIP."
   ]
  },
  {
   "cell_type": "code",
   "execution_count": null,
   "metadata": {
    "pycharm": {
     "name": "#%%\n"
    }
   },
   "outputs": [],
   "source": [
    "def mp_func():\n",
    "    # Importing the gpu_process starts a CUDA context\n",
    "    import openpiv.gpu_process as gpu_process\n",
    "    \n",
    "    cpu_name = current_process().name\n",
    "    k = (int(cpu_name[cpu_name.find('-') + 1:]) - 1) % gpus\n",
    "    \n",
    "    # This suppresses the stout to prevent confusion.\n",
    "    with redirect_stdout(None):\n",
    "        x, y, u, v, mask, s2n = openpiv.gpu_process.WiDIM(frame_a, frame_b, **pars)\n",
    "    \n",
    "    pass"
   ]
  }
 ],
 "metadata": {
  "kernelspec": {
   "display_name": "Python 3",
   "language": "python",
   "name": "python3"
  },
  "language_info": {
   "codemirror_mode": {
    "name": "ipython",
    "version": 3
   },
   "file_extension": ".py",
   "mimetype": "text/x-python",
   "name": "python",
   "nbconvert_exporter": "python",
   "pygments_lexer": "ipython3",
   "version": "3.8.5"
  }
 },
 "nbformat": 4,
 "nbformat_minor": 1
}