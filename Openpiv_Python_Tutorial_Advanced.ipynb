{
  "nbformat": 4,
  "nbformat_minor": 0,
  "metadata": {
    "kernelspec": {
      "display_name": "Python 3",
      "language": "python",
      "name": "python3"
    },
    "language_info": {
      "codemirror_mode": {
        "name": "ipython",
        "version": 3
      },
      "file_extension": ".py",
      "mimetype": "text/x-python",
      "name": "python",
      "nbconvert_exporter": "python",
      "pygments_lexer": "ipython3",
      "version": "3.8.5"
    },
    "colab": {
      "name": "Openpiv_Python_Tutorial_Advanced.ipynb",
      "provenance": [],
      "include_colab_link": true
    },
    "accelerator": "GPU"
  },
  "cells": [
    {
      "cell_type": "markdown",
      "metadata": {
        "id": "view-in-github",
        "colab_type": "text"
      },
      "source": [
        "<a href=\"https://colab.research.google.com/github/ericyang125/openpiv-python-gpu/blob/master/Openpiv_Python_Tutorial_Advanced.ipynb\" target=\"_parent\"><img src=\"https://colab.research.google.com/assets/colab-badge.svg\" alt=\"Open In Colab\"/></a>"
      ]
    },
    {
      "cell_type": "markdown",
      "metadata": {
        "id": "jO5YwDEAbGXF"
      },
      "source": [
        "# Openpiv-python-gpu Advanced Tutorial\n"
      ]
    },
    {
      "cell_type": "markdown",
      "metadata": {
        "id": "4_VyadT8dzTV"
      },
      "source": [
        "Use the following link to run this using GPUs from Google Colab.\n",
        "\n",
        "[![Open In Colab](https://colab.research.google.com/assets/colab-badge.svg)](https://colab.research.google.com/github/ericyang125/openpiv-python-gpu/blob/master/Openpiv_Python_Tutorial_Basic.ipynb)\n",
        "\n",
        "Ensure that GPU acceleration is enabled in Google Colab: Runtime > Change runtime type.\n"
      ]
    },
    {
      "cell_type": "markdown",
      "metadata": {
        "id": "od_EqhwfbGXF"
      },
      "source": [
        "## Introduction\n"
      ]
    },
    {
      "cell_type": "markdown",
      "metadata": {
        "id": "lpVNu18LSJhH"
      },
      "source": [
        "This tutorial will show interactively how each of the parameters of the GPU function affects the output. The speed at which the GPU-accelerated algorithmn processes a large dataset is also demonstrated. Using GPU-acceleration can speed up processing by O(10):\n",
        "> Dallas, C., Wu, M., Chou, V., Liberzon, A., & Sullivan, P. E. (2019). Graphical Processing Unit-Accelerated Open-Source Particle Image Velocimetry Software for High Performance Computing Systems. Journal of Fluids Engineering, 141(11).\n",
        "\n",
        "The data used here are synthetic images generated from a slice of the Johns Hopkins turbulent channel database:\n",
        "> Perlman, E., Burns, R., Li, Y., and Meneveau, C., 2007, “Data Exploration of Turbulence Simulations Using a Database Cluster,” ACM/IEEE Conference on Supercomputing (SC’07), Reno, NV, Nov. 10–16, p. 23.\n",
        "\n",
        "The images are 1.7 MP, and up to 1000 pairs can be processed in this notebook. The output from the PIV function will be compared with the underlying velocity data.\n"
      ]
    },
    {
      "cell_type": "markdown",
      "metadata": {
        "id": "SX7i8CCWRl3r"
      },
      "source": [
        "## Install OpenPIV"
      ]
    },
    {
      "cell_type": "code",
      "metadata": {
        "pycharm": {
          "name": "#%%\n"
        },
        "id": "LjbMklUZbGXG",
        "colab": {
          "base_uri": "https://localhost:8080/"
        },
        "outputId": "f38a9c0b-1d96-4b6b-98af-fd15cb0f725e"
      },
      "source": [
        "# check that GPU is connect. Should say CUDA Version 1x.x\n",
        "!nvidia-smi\n",
        "!nvcc --version\n"
      ],
      "execution_count": 1,
      "outputs": [
        {
          "output_type": "stream",
          "text": [
            "Mon May 24 23:59:30 2021       \n",
            "+-----------------------------------------------------------------------------+\n",
            "| NVIDIA-SMI 465.19.01    Driver Version: 460.32.03    CUDA Version: 11.2     |\n",
            "|-------------------------------+----------------------+----------------------+\n",
            "| GPU  Name        Persistence-M| Bus-Id        Disp.A | Volatile Uncorr. ECC |\n",
            "| Fan  Temp  Perf  Pwr:Usage/Cap|         Memory-Usage | GPU-Util  Compute M. |\n",
            "|                               |                      |               MIG M. |\n",
            "|===============================+======================+======================|\n",
            "|   0  Tesla T4            Off  | 00000000:00:04.0 Off |                    0 |\n",
            "| N/A   50C    P8    10W /  70W |      0MiB / 15109MiB |      0%      Default |\n",
            "|                               |                      |                  N/A |\n",
            "+-------------------------------+----------------------+----------------------+\n",
            "                                                                               \n",
            "+-----------------------------------------------------------------------------+\n",
            "| Processes:                                                                  |\n",
            "|  GPU   GI   CI        PID   Type   Process name                  GPU Memory |\n",
            "|        ID   ID                                                   Usage      |\n",
            "|=============================================================================|\n",
            "|  No running processes found                                                 |\n",
            "+-----------------------------------------------------------------------------+\n",
            "nvcc: NVIDIA (R) Cuda compiler driver\n",
            "Copyright (c) 2005-2020 NVIDIA Corporation\n",
            "Built on Wed_Jul_22_19:09:09_PDT_2020\n",
            "Cuda compilation tools, release 11.0, V11.0.221\n",
            "Build cuda_11.0_bu.TC445_37.28845127_0\n"
          ],
          "name": "stdout"
        }
      ]
    },
    {
      "cell_type": "code",
      "metadata": {
        "pycharm": {
          "name": "#%%\n"
        },
        "id": "p9tTw_PPbGXH",
        "colab": {
          "base_uri": "https://localhost:8080/"
        },
        "outputId": "8678df39-e212-4c50-ff37-4892e2b6517d"
      },
      "source": [
        "# Install PyCUDA.\n",
        "!pip3 install pycuda\n",
        "\n",
        "# Install scikit-CUDA.\n",
        "!pip3 install scikit-CUDA\n",
        "\n",
        "# Install other requirements which may already be fulfilled.\n",
        "!pip3 install cython imageio numpy matplotlib setuptools progressbar2\n",
        "\n",
        "# Clone the repo.\n",
        "!git clone https://github.com/ericyang125/openpiv-python-gpu.git\n",
        "\n",
        "# Install OpenPIV extensions.\n",
        "!cd openpiv-python-gpu && python3 setup.py build_ext --inplace\n"
      ],
      "execution_count": 2,
      "outputs": [
        {
          "output_type": "stream",
          "text": [
            "Collecting pycuda\n",
            "\u001b[?25l  Downloading https://files.pythonhosted.org/packages/5a/56/4682a5118a234d15aa1c8768a528aac4858c7b04d2674e18d586d3dfda04/pycuda-2021.1.tar.gz (1.7MB)\n",
            "\r\u001b[K     |▏                               | 10kB 18.7MB/s eta 0:00:01\r\u001b[K     |▍                               | 20kB 16.3MB/s eta 0:00:01\r\u001b[K     |▋                               | 30kB 14.5MB/s eta 0:00:01\r\u001b[K     |▉                               | 40kB 13.6MB/s eta 0:00:01\r\u001b[K     |█                               | 51kB 8.3MB/s eta 0:00:01\r\u001b[K     |█▏                              | 61kB 9.7MB/s eta 0:00:01\r\u001b[K     |█▍                              | 71kB 9.0MB/s eta 0:00:01\r\u001b[K     |█▋                              | 81kB 9.8MB/s eta 0:00:01\r\u001b[K     |█▊                              | 92kB 9.6MB/s eta 0:00:01\r\u001b[K     |██                              | 102kB 8.0MB/s eta 0:00:01\r\u001b[K     |██▏                             | 112kB 8.0MB/s eta 0:00:01\r\u001b[K     |██▍                             | 122kB 8.0MB/s eta 0:00:01\r\u001b[K     |██▌                             | 133kB 8.0MB/s eta 0:00:01\r\u001b[K     |██▊                             | 143kB 8.0MB/s eta 0:00:01\r\u001b[K     |███                             | 153kB 8.0MB/s eta 0:00:01\r\u001b[K     |███▏                            | 163kB 8.0MB/s eta 0:00:01\r\u001b[K     |███▎                            | 174kB 8.0MB/s eta 0:00:01\r\u001b[K     |███▌                            | 184kB 8.0MB/s eta 0:00:01\r\u001b[K     |███▊                            | 194kB 8.0MB/s eta 0:00:01\r\u001b[K     |████                            | 204kB 8.0MB/s eta 0:00:01\r\u001b[K     |████                            | 215kB 8.0MB/s eta 0:00:01\r\u001b[K     |████▎                           | 225kB 8.0MB/s eta 0:00:01\r\u001b[K     |████▌                           | 235kB 8.0MB/s eta 0:00:01\r\u001b[K     |████▊                           | 245kB 8.0MB/s eta 0:00:01\r\u001b[K     |████▉                           | 256kB 8.0MB/s eta 0:00:01\r\u001b[K     |█████                           | 266kB 8.0MB/s eta 0:00:01\r\u001b[K     |█████▎                          | 276kB 8.0MB/s eta 0:00:01\r\u001b[K     |█████▌                          | 286kB 8.0MB/s eta 0:00:01\r\u001b[K     |█████▋                          | 296kB 8.0MB/s eta 0:00:01\r\u001b[K     |█████▉                          | 307kB 8.0MB/s eta 0:00:01\r\u001b[K     |██████                          | 317kB 8.0MB/s eta 0:00:01\r\u001b[K     |██████▎                         | 327kB 8.0MB/s eta 0:00:01\r\u001b[K     |██████▍                         | 337kB 8.0MB/s eta 0:00:01\r\u001b[K     |██████▋                         | 348kB 8.0MB/s eta 0:00:01\r\u001b[K     |██████▉                         | 358kB 8.0MB/s eta 0:00:01\r\u001b[K     |███████                         | 368kB 8.0MB/s eta 0:00:01\r\u001b[K     |███████▏                        | 378kB 8.0MB/s eta 0:00:01\r\u001b[K     |███████▍                        | 389kB 8.0MB/s eta 0:00:01\r\u001b[K     |███████▋                        | 399kB 8.0MB/s eta 0:00:01\r\u001b[K     |███████▉                        | 409kB 8.0MB/s eta 0:00:01\r\u001b[K     |████████                        | 419kB 8.0MB/s eta 0:00:01\r\u001b[K     |████████▏                       | 430kB 8.0MB/s eta 0:00:01\r\u001b[K     |████████▍                       | 440kB 8.0MB/s eta 0:00:01\r\u001b[K     |████████▋                       | 450kB 8.0MB/s eta 0:00:01\r\u001b[K     |████████▊                       | 460kB 8.0MB/s eta 0:00:01\r\u001b[K     |█████████                       | 471kB 8.0MB/s eta 0:00:01\r\u001b[K     |█████████▏                      | 481kB 8.0MB/s eta 0:00:01\r\u001b[K     |█████████▍                      | 491kB 8.0MB/s eta 0:00:01\r\u001b[K     |█████████▌                      | 501kB 8.0MB/s eta 0:00:01\r\u001b[K     |█████████▊                      | 512kB 8.0MB/s eta 0:00:01\r\u001b[K     |██████████                      | 522kB 8.0MB/s eta 0:00:01\r\u001b[K     |██████████▏                     | 532kB 8.0MB/s eta 0:00:01\r\u001b[K     |██████████▎                     | 542kB 8.0MB/s eta 0:00:01\r\u001b[K     |██████████▌                     | 552kB 8.0MB/s eta 0:00:01\r\u001b[K     |██████████▊                     | 563kB 8.0MB/s eta 0:00:01\r\u001b[K     |███████████                     | 573kB 8.0MB/s eta 0:00:01\r\u001b[K     |███████████                     | 583kB 8.0MB/s eta 0:00:01\r\u001b[K     |███████████▎                    | 593kB 8.0MB/s eta 0:00:01\r\u001b[K     |███████████▌                    | 604kB 8.0MB/s eta 0:00:01\r\u001b[K     |███████████▊                    | 614kB 8.0MB/s eta 0:00:01\r\u001b[K     |███████████▉                    | 624kB 8.0MB/s eta 0:00:01\r\u001b[K     |████████████                    | 634kB 8.0MB/s eta 0:00:01\r\u001b[K     |████████████▎                   | 645kB 8.0MB/s eta 0:00:01\r\u001b[K     |████████████▌                   | 655kB 8.0MB/s eta 0:00:01\r\u001b[K     |████████████▋                   | 665kB 8.0MB/s eta 0:00:01\r\u001b[K     |████████████▉                   | 675kB 8.0MB/s eta 0:00:01\r\u001b[K     |█████████████                   | 686kB 8.0MB/s eta 0:00:01\r\u001b[K     |█████████████▎                  | 696kB 8.0MB/s eta 0:00:01\r\u001b[K     |█████████████▍                  | 706kB 8.0MB/s eta 0:00:01\r\u001b[K     |█████████████▋                  | 716kB 8.0MB/s eta 0:00:01\r\u001b[K     |█████████████▉                  | 727kB 8.0MB/s eta 0:00:01\r\u001b[K     |██████████████                  | 737kB 8.0MB/s eta 0:00:01\r\u001b[K     |██████████████▏                 | 747kB 8.0MB/s eta 0:00:01\r\u001b[K     |██████████████▍                 | 757kB 8.0MB/s eta 0:00:01\r\u001b[K     |██████████████▋                 | 768kB 8.0MB/s eta 0:00:01\r\u001b[K     |██████████████▉                 | 778kB 8.0MB/s eta 0:00:01\r\u001b[K     |███████████████                 | 788kB 8.0MB/s eta 0:00:01\r\u001b[K     |███████████████▏                | 798kB 8.0MB/s eta 0:00:01\r\u001b[K     |███████████████▍                | 808kB 8.0MB/s eta 0:00:01\r\u001b[K     |███████████████▋                | 819kB 8.0MB/s eta 0:00:01\r\u001b[K     |███████████████▊                | 829kB 8.0MB/s eta 0:00:01\r\u001b[K     |████████████████                | 839kB 8.0MB/s eta 0:00:01\r\u001b[K     |████████████████▏               | 849kB 8.0MB/s eta 0:00:01\r\u001b[K     |████████████████▍               | 860kB 8.0MB/s eta 0:00:01\r\u001b[K     |████████████████▌               | 870kB 8.0MB/s eta 0:00:01\r\u001b[K     |████████████████▊               | 880kB 8.0MB/s eta 0:00:01\r\u001b[K     |█████████████████               | 890kB 8.0MB/s eta 0:00:01\r\u001b[K     |█████████████████▏              | 901kB 8.0MB/s eta 0:00:01\r\u001b[K     |█████████████████▍              | 911kB 8.0MB/s eta 0:00:01\r\u001b[K     |█████████████████▌              | 921kB 8.0MB/s eta 0:00:01\r\u001b[K     |█████████████████▊              | 931kB 8.0MB/s eta 0:00:01\r\u001b[K     |██████████████████              | 942kB 8.0MB/s eta 0:00:01\r\u001b[K     |██████████████████▏             | 952kB 8.0MB/s eta 0:00:01\r\u001b[K     |██████████████████▎             | 962kB 8.0MB/s eta 0:00:01\r\u001b[K     |██████████████████▌             | 972kB 8.0MB/s eta 0:00:01\r\u001b[K     |██████████████████▊             | 983kB 8.0MB/s eta 0:00:01\r\u001b[K     |███████████████████             | 993kB 8.0MB/s eta 0:00:01\r\u001b[K     |███████████████████             | 1.0MB 8.0MB/s eta 0:00:01\r\u001b[K     |███████████████████▎            | 1.0MB 8.0MB/s eta 0:00:01\r\u001b[K     |███████████████████▌            | 1.0MB 8.0MB/s eta 0:00:01\r\u001b[K     |███████████████████▊            | 1.0MB 8.0MB/s eta 0:00:01\r\u001b[K     |███████████████████▉            | 1.0MB 8.0MB/s eta 0:00:01\r\u001b[K     |████████████████████            | 1.1MB 8.0MB/s eta 0:00:01\r\u001b[K     |████████████████████▎           | 1.1MB 8.0MB/s eta 0:00:01\r\u001b[K     |████████████████████▌           | 1.1MB 8.0MB/s eta 0:00:01\r\u001b[K     |████████████████████▋           | 1.1MB 8.0MB/s eta 0:00:01\r\u001b[K     |████████████████████▉           | 1.1MB 8.0MB/s eta 0:00:01\r\u001b[K     |█████████████████████           | 1.1MB 8.0MB/s eta 0:00:01\r\u001b[K     |█████████████████████▎          | 1.1MB 8.0MB/s eta 0:00:01\r\u001b[K     |█████████████████████▍          | 1.1MB 8.0MB/s eta 0:00:01\r\u001b[K     |█████████████████████▋          | 1.1MB 8.0MB/s eta 0:00:01\r\u001b[K     |█████████████████████▉          | 1.1MB 8.0MB/s eta 0:00:01\r\u001b[K     |██████████████████████          | 1.2MB 8.0MB/s eta 0:00:01\r\u001b[K     |██████████████████████▏         | 1.2MB 8.0MB/s eta 0:00:01\r\u001b[K     |██████████████████████▍         | 1.2MB 8.0MB/s eta 0:00:01\r\u001b[K     |██████████████████████▋         | 1.2MB 8.0MB/s eta 0:00:01\r\u001b[K     |██████████████████████▉         | 1.2MB 8.0MB/s eta 0:00:01\r\u001b[K     |███████████████████████         | 1.2MB 8.0MB/s eta 0:00:01\r\u001b[K     |███████████████████████▏        | 1.2MB 8.0MB/s eta 0:00:01\r\u001b[K     |███████████████████████▍        | 1.2MB 8.0MB/s eta 0:00:01\r\u001b[K     |███████████████████████▋        | 1.2MB 8.0MB/s eta 0:00:01\r\u001b[K     |███████████████████████▊        | 1.2MB 8.0MB/s eta 0:00:01\r\u001b[K     |████████████████████████        | 1.3MB 8.0MB/s eta 0:00:01\r\u001b[K     |████████████████████████▏       | 1.3MB 8.0MB/s eta 0:00:01\r\u001b[K     |████████████████████████▍       | 1.3MB 8.0MB/s eta 0:00:01\r\u001b[K     |████████████████████████▌       | 1.3MB 8.0MB/s eta 0:00:01\r\u001b[K     |████████████████████████▊       | 1.3MB 8.0MB/s eta 0:00:01\r\u001b[K     |█████████████████████████       | 1.3MB 8.0MB/s eta 0:00:01\r\u001b[K     |█████████████████████████▏      | 1.3MB 8.0MB/s eta 0:00:01\r\u001b[K     |█████████████████████████▎      | 1.3MB 8.0MB/s eta 0:00:01\r\u001b[K     |█████████████████████████▌      | 1.3MB 8.0MB/s eta 0:00:01\r\u001b[K     |█████████████████████████▊      | 1.4MB 8.0MB/s eta 0:00:01\r\u001b[K     |██████████████████████████      | 1.4MB 8.0MB/s eta 0:00:01\r\u001b[K     |██████████████████████████      | 1.4MB 8.0MB/s eta 0:00:01\r\u001b[K     |██████████████████████████▎     | 1.4MB 8.0MB/s eta 0:00:01\r\u001b[K     |██████████████████████████▌     | 1.4MB 8.0MB/s eta 0:00:01\r\u001b[K     |██████████████████████████▊     | 1.4MB 8.0MB/s eta 0:00:01\r\u001b[K     |██████████████████████████▉     | 1.4MB 8.0MB/s eta 0:00:01\r\u001b[K     |███████████████████████████     | 1.4MB 8.0MB/s eta 0:00:01\r\u001b[K     |███████████████████████████▎    | 1.4MB 8.0MB/s eta 0:00:01\r\u001b[K     |███████████████████████████▌    | 1.4MB 8.0MB/s eta 0:00:01\r\u001b[K     |███████████████████████████▋    | 1.5MB 8.0MB/s eta 0:00:01\r\u001b[K     |███████████████████████████▉    | 1.5MB 8.0MB/s eta 0:00:01\r\u001b[K     |████████████████████████████    | 1.5MB 8.0MB/s eta 0:00:01\r\u001b[K     |████████████████████████████▎   | 1.5MB 8.0MB/s eta 0:00:01\r\u001b[K     |████████████████████████████▍   | 1.5MB 8.0MB/s eta 0:00:01\r\u001b[K     |████████████████████████████▋   | 1.5MB 8.0MB/s eta 0:00:01\r\u001b[K     |████████████████████████████▉   | 1.5MB 8.0MB/s eta 0:00:01\r\u001b[K     |█████████████████████████████   | 1.5MB 8.0MB/s eta 0:00:01\r\u001b[K     |█████████████████████████████▏  | 1.5MB 8.0MB/s eta 0:00:01\r\u001b[K     |█████████████████████████████▍  | 1.5MB 8.0MB/s eta 0:00:01\r\u001b[K     |█████████████████████████████▋  | 1.6MB 8.0MB/s eta 0:00:01\r\u001b[K     |█████████████████████████████▉  | 1.6MB 8.0MB/s eta 0:00:01\r\u001b[K     |██████████████████████████████  | 1.6MB 8.0MB/s eta 0:00:01\r\u001b[K     |██████████████████████████████▏ | 1.6MB 8.0MB/s eta 0:00:01\r\u001b[K     |██████████████████████████████▍ | 1.6MB 8.0MB/s eta 0:00:01\r\u001b[K     |██████████████████████████████▋ | 1.6MB 8.0MB/s eta 0:00:01\r\u001b[K     |██████████████████████████████▊ | 1.6MB 8.0MB/s eta 0:00:01\r\u001b[K     |███████████████████████████████ | 1.6MB 8.0MB/s eta 0:00:01\r\u001b[K     |███████████████████████████████▏| 1.6MB 8.0MB/s eta 0:00:01\r\u001b[K     |███████████████████████████████▍| 1.6MB 8.0MB/s eta 0:00:01\r\u001b[K     |███████████████████████████████▌| 1.7MB 8.0MB/s eta 0:00:01\r\u001b[K     |███████████████████████████████▊| 1.7MB 8.0MB/s eta 0:00:01\r\u001b[K     |████████████████████████████████| 1.7MB 8.0MB/s eta 0:00:01\r\u001b[K     |████████████████████████████████| 1.7MB 8.0MB/s \n",
            "\u001b[?25h  Installing build dependencies ... \u001b[?25l\u001b[?25hdone\n",
            "  Getting requirements to build wheel ... \u001b[?25l\u001b[?25hdone\n",
            "    Preparing wheel metadata ... \u001b[?25l\u001b[?25hdone\n",
            "Collecting mako\n",
            "\u001b[?25l  Downloading https://files.pythonhosted.org/packages/f3/54/dbc07fbb20865d3b78fdb7cf7fa713e2cba4f87f71100074ef2dc9f9d1f7/Mako-1.1.4-py2.py3-none-any.whl (75kB)\n",
            "\u001b[K     |████████████████████████████████| 81kB 9.3MB/s \n",
            "\u001b[?25hRequirement already satisfied: appdirs>=1.4.0 in /usr/local/lib/python3.7/dist-packages (from pycuda) (1.4.4)\n",
            "Collecting pytools>=2011.2\n",
            "\u001b[?25l  Downloading https://files.pythonhosted.org/packages/49/5b/136e5688da9bbd915ee8190bfd6a007fc0b19d71f26d5a2ab4b737b2eeb4/pytools-2021.2.6.tar.gz (63kB)\n",
            "\u001b[K     |████████████████████████████████| 71kB 8.9MB/s \n",
            "\u001b[?25hRequirement already satisfied: MarkupSafe>=0.9.2 in /usr/local/lib/python3.7/dist-packages (from mako->pycuda) (2.0.0)\n",
            "Requirement already satisfied: numpy>=1.6.0 in /usr/local/lib/python3.7/dist-packages (from pytools>=2011.2->pycuda) (1.19.5)\n",
            "Building wheels for collected packages: pycuda\n",
            "  Building wheel for pycuda (PEP 517) ... \u001b[?25l\u001b[?25hdone\n",
            "  Created wheel for pycuda: filename=pycuda-2021.1-cp37-cp37m-linux_x86_64.whl size=627877 sha256=858c210543aeb6c1d6cda8c50cc0db1cd96f2a815f73b8b9c246a052b8fb9601\n",
            "  Stored in directory: /root/.cache/pip/wheels/d5/55/64/fd4dddcc5f1c25eebd90b5291c3769101dc978c70165685512\n",
            "Successfully built pycuda\n",
            "Building wheels for collected packages: pytools\n",
            "  Building wheel for pytools (setup.py) ... \u001b[?25l\u001b[?25hdone\n",
            "  Created wheel for pytools: filename=pytools-2021.2.6-py2.py3-none-any.whl size=60643 sha256=8e2d42a05b9ba6573c923c19445aa69d71551468bd21f1690f28917e1220b960\n",
            "  Stored in directory: /root/.cache/pip/wheels/8c/a6/65/447b9b4fd1d9bde84ad2fea2431a38f69f3fb573476a98ae03\n",
            "Successfully built pytools\n",
            "Installing collected packages: mako, pytools, pycuda\n",
            "Successfully installed mako-1.1.4 pycuda-2021.1 pytools-2021.2.6\n",
            "Collecting scikit-CUDA\n",
            "\u001b[?25l  Downloading https://files.pythonhosted.org/packages/98/8b/36d178c3b98524fe5b1cc15d075d34e2e6e291c4b0461f6e901f1e0bc736/scikit_cuda-0.5.3-py2.py3-none-any.whl (114kB)\n",
            "\u001b[K     |████████████████████████████████| 122kB 7.2MB/s \n",
            "\u001b[?25hRequirement already satisfied: numpy>=1.2.0 in /usr/local/lib/python3.7/dist-packages (from scikit-CUDA) (1.19.5)\n",
            "Requirement already satisfied: mako>=1.0.1 in /usr/local/lib/python3.7/dist-packages (from scikit-CUDA) (1.1.4)\n",
            "Requirement already satisfied: pycuda>=2016.1 in /usr/local/lib/python3.7/dist-packages (from scikit-CUDA) (2021.1)\n",
            "Requirement already satisfied: MarkupSafe>=0.9.2 in /usr/local/lib/python3.7/dist-packages (from mako>=1.0.1->scikit-CUDA) (2.0.0)\n",
            "Requirement already satisfied: pytools>=2011.2 in /usr/local/lib/python3.7/dist-packages (from pycuda>=2016.1->scikit-CUDA) (2021.2.6)\n",
            "Requirement already satisfied: appdirs>=1.4.0 in /usr/local/lib/python3.7/dist-packages (from pycuda>=2016.1->scikit-CUDA) (1.4.4)\n",
            "Installing collected packages: scikit-CUDA\n",
            "Successfully installed scikit-CUDA-0.5.3\n",
            "Requirement already satisfied: cython in /usr/local/lib/python3.7/dist-packages (0.29.23)\n",
            "Requirement already satisfied: imageio in /usr/local/lib/python3.7/dist-packages (2.4.1)\n",
            "Requirement already satisfied: numpy in /usr/local/lib/python3.7/dist-packages (1.19.5)\n",
            "Requirement already satisfied: matplotlib in /usr/local/lib/python3.7/dist-packages (3.2.2)\n",
            "Requirement already satisfied: setuptools in /usr/local/lib/python3.7/dist-packages (56.1.0)\n",
            "Requirement already satisfied: progressbar2 in /usr/local/lib/python3.7/dist-packages (3.38.0)\n",
            "Requirement already satisfied: pillow in /usr/local/lib/python3.7/dist-packages (from imageio) (7.1.2)\n",
            "Requirement already satisfied: pyparsing!=2.0.4,!=2.1.2,!=2.1.6,>=2.0.1 in /usr/local/lib/python3.7/dist-packages (from matplotlib) (2.4.7)\n",
            "Requirement already satisfied: kiwisolver>=1.0.1 in /usr/local/lib/python3.7/dist-packages (from matplotlib) (1.3.1)\n",
            "Requirement already satisfied: cycler>=0.10 in /usr/local/lib/python3.7/dist-packages (from matplotlib) (0.10.0)\n",
            "Requirement already satisfied: python-dateutil>=2.1 in /usr/local/lib/python3.7/dist-packages (from matplotlib) (2.8.1)\n",
            "Requirement already satisfied: six in /usr/local/lib/python3.7/dist-packages (from progressbar2) (1.15.0)\n",
            "Requirement already satisfied: python-utils>=2.3.0 in /usr/local/lib/python3.7/dist-packages (from progressbar2) (2.5.6)\n",
            "Cloning into 'openpiv-python-gpu'...\n",
            "remote: Enumerating objects: 5366, done.\u001b[K\n",
            "remote: Counting objects: 100% (20/20), done.\u001b[K\n",
            "remote: Compressing objects: 100% (15/15), done.\u001b[K\n",
            "remote: Total 5366 (delta 9), reused 8 (delta 5), pack-reused 5346\u001b[K\n",
            "Receiving objects: 100% (5366/5366), 185.63 MiB | 30.04 MiB/s, done.\n",
            "Resolving deltas: 100% (3526/3526), done.\n",
            "GPU support found. Will build GPU extensions.\n",
            "Compiling openpiv/gpu_process.pyx because it changed.\n",
            "Compiling openpiv/gpu_validation.pyx because it changed.\n",
            "[1/2] Cythonizing openpiv/gpu_process.pyx\n",
            "[2/2] Cythonizing openpiv/gpu_validation.pyx\n",
            "running build_ext\n",
            "building 'openpiv.gpu_process' extension\n",
            "creating build\n",
            "creating build/temp.linux-x86_64-3.7\n",
            "creating build/temp.linux-x86_64-3.7/openpiv\n",
            "x86_64-linux-gnu-gcc -pthread -Wno-unused-result -Wsign-compare -DNDEBUG -g -fwrapv -O2 -Wall -g -fdebug-prefix-map=/build/python3.7-OGiuun/python3.7-3.7.10=. -fstack-protector-strong -Wformat -Werror=format-security -g -fdebug-prefix-map=/build/python3.7-OGiuun/python3.7-3.7.10=. -fstack-protector-strong -Wformat -Werror=format-security -Wdate-time -D_FORTIFY_SOURCE=2 -fPIC -I/usr/local/lib/python3.7/dist-packages/numpy/core/include -I/usr/include/python3.7m -c openpiv/gpu_process.c -o build/temp.linux-x86_64-3.7/openpiv/gpu_process.o\n",
            "In file included from \u001b[01m\u001b[K/usr/local/lib/python3.7/dist-packages/numpy/core/include/numpy/ndarraytypes.h:1822:0\u001b[m\u001b[K,\n",
            "                 from \u001b[01m\u001b[K/usr/local/lib/python3.7/dist-packages/numpy/core/include/numpy/ndarrayobject.h:12\u001b[m\u001b[K,\n",
            "                 from \u001b[01m\u001b[K/usr/local/lib/python3.7/dist-packages/numpy/core/include/numpy/arrayobject.h:4\u001b[m\u001b[K,\n",
            "                 from \u001b[01m\u001b[Kopenpiv/gpu_process.c:631\u001b[m\u001b[K:\n",
            "\u001b[01m\u001b[K/usr/local/lib/python3.7/dist-packages/numpy/core/include/numpy/npy_1_7_deprecated_api.h:17:2:\u001b[m\u001b[K \u001b[01;35m\u001b[Kwarning: \u001b[m\u001b[K#warning \"Using deprecated NumPy API, disable it with \" \"#define NPY_NO_DEPRECATED_API NPY_1_7_API_VERSION\" [\u001b[01;35m\u001b[K-Wcpp\u001b[m\u001b[K]\n",
            " #\u001b[01;35m\u001b[Kwarning\u001b[m\u001b[K \"Using deprecated NumPy API, disable it with \" \\\n",
            "  \u001b[01;35m\u001b[K^~~~~~~\u001b[m\u001b[K\n",
            "x86_64-linux-gnu-gcc -pthread -shared -Wl,-O1 -Wl,-Bsymbolic-functions -Wl,-Bsymbolic-functions -Wl,-z,relro -Wl,-Bsymbolic-functions -Wl,-z,relro -g -fdebug-prefix-map=/build/python3.7-OGiuun/python3.7-3.7.10=. -fstack-protector-strong -Wformat -Werror=format-security -Wdate-time -D_FORTIFY_SOURCE=2 build/temp.linux-x86_64-3.7/openpiv/gpu_process.o -o /content/openpiv-python-gpu/openpiv/gpu_process.cpython-37m-x86_64-linux-gnu.so\n",
            "building 'openpiv.gpu_validation' extension\n",
            "x86_64-linux-gnu-gcc -pthread -Wno-unused-result -Wsign-compare -DNDEBUG -g -fwrapv -O2 -Wall -g -fdebug-prefix-map=/build/python3.7-OGiuun/python3.7-3.7.10=. -fstack-protector-strong -Wformat -Werror=format-security -g -fdebug-prefix-map=/build/python3.7-OGiuun/python3.7-3.7.10=. -fstack-protector-strong -Wformat -Werror=format-security -Wdate-time -D_FORTIFY_SOURCE=2 -fPIC -I/usr/local/lib/python3.7/dist-packages/numpy/core/include -I/usr/include/python3.7m -c openpiv/gpu_validation.c -o build/temp.linux-x86_64-3.7/openpiv/gpu_validation.o\n",
            "x86_64-linux-gnu-gcc -pthread -shared -Wl,-O1 -Wl,-Bsymbolic-functions -Wl,-Bsymbolic-functions -Wl,-z,relro -Wl,-Bsymbolic-functions -Wl,-z,relro -g -fdebug-prefix-map=/build/python3.7-OGiuun/python3.7-3.7.10=. -fstack-protector-strong -Wformat -Werror=format-security -Wdate-time -D_FORTIFY_SOURCE=2 build/temp.linux-x86_64-3.7/openpiv/gpu_validation.o -o /content/openpiv-python-gpu/openpiv/gpu_validation.cpython-37m-x86_64-linux-gnu.so\n"
          ],
          "name": "stdout"
        }
      ]
    },
    {
      "cell_type": "markdown",
      "metadata": {
        "id": "f4TWIH3bmToh"
      },
      "source": [
        "## Load the data"
      ]
    },
    {
      "cell_type": "markdown",
      "metadata": {
        "id": "bc6frxcRUMr8"
      },
      "source": [
        "A client authorization is required from the user to download the data from Google Drive."
      ]
    },
    {
      "cell_type": "code",
      "metadata": {
        "id": "sfnnceWMeI0j"
      },
      "source": [
        "from pydrive.auth import GoogleAuth\n",
        "from pydrive.drive import GoogleDrive\n",
        "from google.colab import auth\n",
        "from oauth2client.client import GoogleCredentials\n",
        "\n",
        "# Authenticate and create the PyDrive client.\n",
        "auth.authenticate_user()\n",
        "gauth = GoogleAuth()\n",
        "gauth.credentials = GoogleCredentials.get_application_default()\n",
        "drive = GoogleDrive(gauth)\n"
      ],
      "execution_count": 3,
      "outputs": []
    },
    {
      "cell_type": "code",
      "metadata": {
        "colab": {
          "base_uri": "https://localhost:8080/"
        },
        "id": "OkWzp38_hMf0",
        "outputId": "e5240f74-f0e8-4954-a870-2aa2f759a96c"
      },
      "source": [
        "import glob\n",
        "from progressbar import progressbar\n",
        "\n",
        "#@title Dataset\n",
        "#@markdown Choose the number of image pairs to download:\n",
        "start_index = 0 #@param {type:\"slider\", min:0, max:1000, step:1}\n",
        "end_index = 50 #@param {type:\"slider\", min:0, max:1000, step:1}\n",
        "\n",
        "assert start_index < end_index, 'start_index must be smaller than end_index'\n",
        "print('Downloading {} files:'.format(2 * (end_index - start_index)))\n",
        "\n",
        "# folder id of the public data\n",
        "f_id = '1IuzZlz7DjjKHptILpuzRAFRUioiAiqaX'\n",
        "\n",
        "# resolution of the images\n",
        "im_shape = (512, 3217)\n",
        "\n",
        "# get the list of files\n",
        "file_list = drive.ListFile({'q': \"'{}' in parents and trashed=false\".format(f_id)}).GetList()\n",
        "\n",
        "# sort the file list by title\n",
        "file_list = sorted(file_list, key=lambda i: (i['title']))\n",
        "\n",
        "# download the files\n",
        "for i in progressbar(range(2 * start_index, 2 * end_index)):\n",
        "    downloaded = drive.CreateFile({'id': file_list[i]['id']})\n",
        "    downloaded.GetContentFile(file_list[i]['title'])\n",
        "\n",
        "# make image lists\n",
        "frame_a_list = sorted(glob.glob('*_a.tiff'))\n",
        "frame_b_list = sorted(glob.glob('*_b.tiff'))\n",
        "\n",
        "print('{} image pairs total have been downloaded to this VM.'.format(frame_a_list))\n"
      ],
      "execution_count": 4,
      "outputs": [
        {
          "output_type": "stream",
          "text": [
            "Downloading 100 files:\n"
          ],
          "name": "stdout"
        },
        {
          "output_type": "stream",
          "text": [
            "100% (100 of 100) |######################| Elapsed Time: 0:01:36 Time:  0:01:36\n"
          ],
          "name": "stderr"
        },
        {
          "output_type": "stream",
          "text": [
            "['jh_0000_a.tiff', 'jh_0001_a.tiff', 'jh_0002_a.tiff', 'jh_0003_a.tiff', 'jh_0004_a.tiff', 'jh_0005_a.tiff', 'jh_0006_a.tiff', 'jh_0007_a.tiff', 'jh_0008_a.tiff', 'jh_0009_a.tiff', 'jh_0010_a.tiff', 'jh_0011_a.tiff', 'jh_0012_a.tiff', 'jh_0013_a.tiff', 'jh_0014_a.tiff', 'jh_0015_a.tiff', 'jh_0016_a.tiff', 'jh_0017_a.tiff', 'jh_0018_a.tiff', 'jh_0019_a.tiff', 'jh_0020_a.tiff', 'jh_0021_a.tiff', 'jh_0022_a.tiff', 'jh_0023_a.tiff', 'jh_0024_a.tiff', 'jh_0025_a.tiff', 'jh_0026_a.tiff', 'jh_0027_a.tiff', 'jh_0028_a.tiff', 'jh_0029_a.tiff', 'jh_0030_a.tiff', 'jh_0031_a.tiff', 'jh_0032_a.tiff', 'jh_0033_a.tiff', 'jh_0034_a.tiff', 'jh_0035_a.tiff', 'jh_0036_a.tiff', 'jh_0037_a.tiff', 'jh_0038_a.tiff', 'jh_0039_a.tiff', 'jh_0040_a.tiff', 'jh_0041_a.tiff', 'jh_0042_a.tiff', 'jh_0043_a.tiff', 'jh_0044_a.tiff', 'jh_0045_a.tiff', 'jh_0046_a.tiff', 'jh_0047_a.tiff', 'jh_0048_a.tiff', 'jh_0049_a.tiff'] image pairs total have been downloaded to this VM.\n"
          ],
          "name": "stdout"
        }
      ]
    },
    {
      "cell_type": "markdown",
      "metadata": {
        "id": "aZN0riW9eKLu"
      },
      "source": [
        "## PIV Parameters"
      ]
    },
    {
      "cell_type": "markdown",
      "metadata": {
        "id": "bFkZphGIeKwt"
      },
      "source": [
        "Here you can try changing the parameters and see how it affects the results.\n",
        "Try using a *window_size_iters* = (1, 2) and *min_window_size* = 16.\n",
        "Then try *window_size_iters* = (1, 2, 2) and *min_window_size* = 8"
      ]
    },
    {
      "cell_type": "code",
      "metadata": {
        "id": "nTgl1n9ZaADj"
      },
      "source": [
        "#@title Main Parameters\n",
        "\n",
        "#@markdown Number of iterations performed at each window size. You can enter a tuple, where the number of tuple indexes control the number of mesh refinements. For example (1, 2, 2) would perform 1 iteration at 4 * *min_window_size*, 2 iterations at 2 * *min_window_size* and 2 iterations at *min_window_size*.\n",
        "window_size_iters = (1, 2) #@param {type:\"raw\"}\n",
        "#@markdown Length of the sides of the square deformation. Only supports multiples of 8.\n",
        "min_window_size = 16 #@param [8, 16, 32] {type:\"raw\"}\n",
        "#@markdown The ratio of overlap between two windows (between 0 and 1). Too much overlap will result in the algorithm failing.\n",
        "overlap_ratio = 0.5 #@param {type:\"number\"}\n",
        "#@markdown Time delay separating the two frames. This can be left as 1 for this tutorial.\n",
        "dt = 1 #@param {type:\"number\"}\n",
        "#@markdown 2D array of integers with values 0 for the background, 1 for the flow-field. If the center of a window is on a 0 value the velocity is set to 0.\n",
        "mask = None #@param [\"None\"] {type:\"raw\"}\n",
        "#@markdown Whether to deform the windows by the velocity gradient at each iteration. This improves the results if there are large gradient fields.\n",
        "deform = True #@param [\"True\", \"False\"] {type:\"raw\"}\n",
        "#@markdown Whether to smooth the intermediate fields.\n",
        "smooth = True #@param [\"True\", \"False\"] {type:\"raw\"}\n",
        "#@markdown Number of iterations per validation cycle.\n",
        "nb_validation_iter = 2 #@param {type:\"number\"}\n",
        "#@markdown Method used for validation. Only the mean velocity method is implemented for now.\n",
        "validation_method = 'median_validation' #@param ['median_validation'] {type:\"raw\"}\n",
        "#@markdown With a first window size following the 1/4 rule, the 1st iteration can be trusted.\n",
        "trust_1st_iter = True #@param [\"True\", \"False\"] {type:\"raw\"}\n",
        "\n"
      ],
      "execution_count": 5,
      "outputs": []
    },
    {
      "cell_type": "code",
      "metadata": {
        "id": "wnHPkp0fnsOb"
      },
      "source": [
        "#@title Other Parameters\n",
        "#@markdown These are more advanced parameters and can be ignored by beginners.\n",
        "\n",
        "#@markdown Tolerance of the median validation. The default value of 2 is fairly universal (Westerwheel, 1994).\n",
        "median_tol = 2 #@param {type:\"number\"}\n",
        "#@markdown One of the following methods to estimate subpixel location of the peak:\\n'centroid' [replaces default if correlation map is negative],\\n'gaussian' [default if correlation map is positive],\\n'parabolic'.\n",
        "subpixel_method = 'gaussian' #@param ['gaussian'] {type:\"raw\"}\n",
        "#@markdown Whether the signal-to-noise ratio should be computed and returned. Setting this to False speeds up the computation significantly.\n",
        "sig2noise = True #@param [\"True\", \"False\"] {type:\"raw\"}\n",
        "#@markdown Defines the method of signal-to-noise-ratio measure. ['peak2peak' or 'peak2mean'].\n",
        "sig2noise_method = 'peak2peak' #@param ['peak2peak'] {type:\"raw\"}\n",
        "#@markdown The half size of the region around the first correlation peak to ignore for finding the second peak.\\n[default: 2]. Only used if sig2noise_method==peak2peak.\n",
        "width = 2 #@param {type:\"number\"}\n"
      ],
      "execution_count": 6,
      "outputs": []
    },
    {
      "cell_type": "markdown",
      "metadata": {
        "id": "qVwM2bpXJNfh"
      },
      "source": [
        "## Processing"
      ]
    },
    {
      "cell_type": "code",
      "metadata": {
        "id": "2lkkLWWHg0nR"
      },
      "source": [
        "#@title Batch size\n",
        "#@markdown Choose the number of image pairs to process at once:\n",
        "batch_start_index = 0 #@param {type:\"slider\", min:0, max:1000, step:1}\n",
        "batch_end_index = 50 #@param {type:\"slider\", min:0, max:1000, step:1}\n",
        "\n",
        "#@markdown Each image pair should take O(1) s on modern hardware.\n",
        "\n",
        "assert batch_start_index < batch_end_index, 'batch_start_index must be smaller than batch_end_index'\n",
        "assert batch_start_index < len(frame_a_list), 'batch_start_index must be smaller than the number of image pairs downloaded{}'.format(len(frame_a_list))\n",
        "\n",
        "# get the number of fields to process\n",
        "batch_end_index = min(batch_end_index, len(frame_a_list))\n",
        "num_fields = batch_end_index - batch_start_index"
      ],
      "execution_count": 7,
      "outputs": []
    },
    {
      "cell_type": "code",
      "metadata": {
        "id": "S62db9WnaKci",
        "colab": {
          "base_uri": "https://localhost:8080/",
          "height": 348
        },
        "outputId": "9cddb4b4-b876-466c-829d-424cb69b55a7"
      },
      "source": [
        "import os\n",
        "import sys\n",
        "import numpy as np\n",
        "import time\n",
        "import imageio as io\n",
        "import matplotlib.pyplot as plt\n",
        "from contextlib import redirect_stdout\n",
        "%matplotlib inline\n",
        "\n",
        "# Add OpenPIV to the python path.\n",
        "sys.path.append(os.path.join(os.getcwd(), 'openpiv-python-gpu/'))\n",
        "\n",
        "# Import the GPU module and the tools module.\n",
        "import openpiv.gpu_process as gpu_process\n",
        "import openpiv.tools as tools\n",
        "\n",
        "# The parameters are input as a dictioary for convenience\n",
        "pars = {\n",
        "    'window_size_iters': window_size_iters,\n",
        "    'min_window_size': min_window_size,\n",
        "    'overlap_ratio': overlap_ratio,\n",
        "    'dt': dt,\n",
        "    'mask': mask,\n",
        "    'deform': deform,\n",
        "    'smooth': smooth,\n",
        "    'nb_validation_iter': nb_validation_iter,\n",
        "    'validation_method': validation_method,\n",
        "    'trust_1st_iter': trust_1st_iter,\n",
        "    'median_tol': median_tol,\n",
        "    'subpixel_method': subpixel_method,\n",
        "    'sig2noise': sig2noise,\n",
        "    'sig2noise_method': sig2noise_method,\n",
        "    'width': width,\n",
        "}\n",
        "\n",
        "# Numpy arrays are created to store the velocity data.\n",
        "m, n = gpu_process.get_field_shape(im_shape, min_window_size, min_window_size * overlap_ratio)  # shape of the final velocity field\n",
        "s2n = ((num_fields, m, n))\n",
        "u = np.empty_like(s2n)\n",
        "v = np.empty_like(s2n)\n",
        "\n",
        "# This is the main loop over the dataset\n",
        "start_time = time.time()\n",
        "for i in progressbar(range(batch_start_index, batch_end_index), redirect_stout=True):\n",
        "\n",
        "    # The images are loaded\n",
        "    frame_a  = io.imread(frame_a_list[i])\n",
        "    frame_b  = io.imread(frame_b_list[i])\n",
        "\n",
        "    # The velocity fields are computed.\n",
        "    with redirect_stdout(None):  # suppress printing to console to keep notebook clean\n",
        "        x, y, u, v, mask, s2n = gpu_process.gpu_piv_def(frame_a, frame_b, **pars)\n",
        "\n",
        "end_time = time.time()"
      ],
      "execution_count": 8,
      "outputs": [
        {
          "output_type": "stream",
          "text": [
            "/usr/local/lib/python3.7/dist-packages/skcuda/cublas.py:284: UserWarning: creating CUBLAS context to get version number\n",
            "  warnings.warn('creating CUBLAS context to get version number')\n",
            "N/A% (0 of 50) |                         | Elapsed Time: 0:00:00 ETA:  --:--:--"
          ],
          "name": "stderr"
        },
        {
          "output_type": "error",
          "ename": "ValueError",
          "evalue": "ignored",
          "traceback": [
            "\u001b[0;31m---------------------------------------------------------------------------\u001b[0m",
            "\u001b[0;31mValueError\u001b[0m                                Traceback (most recent call last)",
            "\u001b[0;32m<ipython-input-8-c79bb419c8c2>\u001b[0m in \u001b[0;36m<module>\u001b[0;34m()\u001b[0m\n\u001b[1;32m     50\u001b[0m     \u001b[0;31m# The velocity fields are computed.\u001b[0m\u001b[0;34m\u001b[0m\u001b[0;34m\u001b[0m\u001b[0;34m\u001b[0m\u001b[0m\n\u001b[1;32m     51\u001b[0m     \u001b[0;32mwith\u001b[0m \u001b[0mredirect_stdout\u001b[0m\u001b[0;34m(\u001b[0m\u001b[0;32mNone\u001b[0m\u001b[0;34m)\u001b[0m\u001b[0;34m:\u001b[0m  \u001b[0;31m# suppress printing to console to keep notebook clean\u001b[0m\u001b[0;34m\u001b[0m\u001b[0;34m\u001b[0m\u001b[0m\n\u001b[0;32m---> 52\u001b[0;31m         \u001b[0mx\u001b[0m\u001b[0;34m,\u001b[0m \u001b[0my\u001b[0m\u001b[0;34m,\u001b[0m \u001b[0mu\u001b[0m\u001b[0;34m,\u001b[0m \u001b[0mv\u001b[0m\u001b[0;34m,\u001b[0m \u001b[0mmask\u001b[0m\u001b[0;34m,\u001b[0m \u001b[0ms2n\u001b[0m \u001b[0;34m=\u001b[0m \u001b[0mgpu_process\u001b[0m\u001b[0;34m.\u001b[0m\u001b[0mgpu_piv_def\u001b[0m\u001b[0;34m(\u001b[0m\u001b[0mframe_a\u001b[0m\u001b[0;34m,\u001b[0m \u001b[0mframe_b\u001b[0m\u001b[0;34m,\u001b[0m \u001b[0;34m**\u001b[0m\u001b[0mpars\u001b[0m\u001b[0;34m)\u001b[0m\u001b[0;34m\u001b[0m\u001b[0;34m\u001b[0m\u001b[0m\n\u001b[0m\u001b[1;32m     53\u001b[0m \u001b[0;34m\u001b[0m\u001b[0m\n\u001b[1;32m     54\u001b[0m \u001b[0mend_time\u001b[0m \u001b[0;34m=\u001b[0m \u001b[0mtime\u001b[0m\u001b[0;34m.\u001b[0m\u001b[0mtime\u001b[0m\u001b[0;34m(\u001b[0m\u001b[0;34m)\u001b[0m\u001b[0;34m\u001b[0m\u001b[0;34m\u001b[0m\u001b[0m\n",
            "\u001b[0;32m/content/openpiv-python-gpu/openpiv/gpu_process.pyx\u001b[0m in \u001b[0;36mopenpiv.gpu_process.gpu_piv_def\u001b[0;34m()\u001b[0m\n",
            "\u001b[0;32m/content/openpiv-python-gpu/openpiv/gpu_process.pyx\u001b[0m in \u001b[0;36mopenpiv.gpu_process.PIVGPU.__init__\u001b[0;34m()\u001b[0m\n",
            "\u001b[0;31mValueError\u001b[0m: too many values to unpack (expected 2)"
          ]
        }
      ]
    },
    {
      "cell_type": "code",
      "metadata": {
        "colab": {
          "base_uri": "https://localhost:8080/"
        },
        "id": "8Wgq2o6l18S3",
        "outputId": "7b7b5393-fa35-49b6-f628-566e34af6346"
      },
      "source": [
        "io.imread(frame_a_list[i]).shape"
      ],
      "execution_count": 12,
      "outputs": [
        {
          "output_type": "execute_result",
          "data": {
            "text/plain": [
              "(512, 3217, 4)"
            ]
          },
          "metadata": {
            "tags": []
          },
          "execution_count": 12
        }
      ]
    },
    {
      "cell_type": "markdown",
      "metadata": {
        "pycharm": {
          "name": "#%% md\n"
        },
        "id": "1z1WXgUFbGXJ"
      },
      "source": [
        "## Results"
      ]
    },
    {
      "cell_type": "code",
      "metadata": {
        "id": "GOfEC_qbx4et"
      },
      "source": [
        "# The performance of the function is reported.\n",
        "print('Computation time was {}'.format(end_time - start_time))\n",
        "print('Time per image pair was {}'.format((end_time - start_time) / (num_fields))"
      ],
      "execution_count": null,
      "outputs": []
    },
    {
      "cell_type": "code",
      "metadata": {
        "id": "7Bz3ek7ebGXJ"
      },
      "source": [
        "# The accuracy of the fields is evaluated\n",
        "\n",
        "# graph\n"
      ],
      "execution_count": null,
      "outputs": []
    },
    {
      "cell_type": "code",
      "metadata": {
        "id": "XgUPEoa6bGXK"
      },
      "source": [
        "# Run this to visualize a series of fields as quiver plots\n",
        "\n",
        "# range = "
      ],
      "execution_count": null,
      "outputs": []
    },
    {
      "cell_type": "markdown",
      "metadata": {
        "id": "l0jU5gkBe3QW"
      },
      "source": [
        "## Conclusions\n",
        "Processing a large dataset has been shown.\n",
        "The next steps are to look at masking the data and multiprocessing using one or more GPUs."
      ]
    },
    {
      "cell_type": "code",
      "metadata": {
        "pycharm": {
          "name": "#%%\n"
        },
        "id": "GVs_Ut5AbGXK"
      },
      "source": [
        ""
      ],
      "execution_count": null,
      "outputs": []
    },
    {
      "cell_type": "markdown",
      "metadata": {
        "id": "ZXE2SUIKkGeW"
      },
      "source": [
        "### Further steps\n",
        "To learn how to dynamically mask static objects in data, see the tutorial on masking.\n"
      ]
    }
  ]
}