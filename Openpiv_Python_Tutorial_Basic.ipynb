{
 "cells": [
  {
   "cell_type": "markdown",
   "metadata": {},
   "source": [
    "# Openpiv-python-gpu Tutorial"
   ]
  },
  {
   "cell_type": "markdown",
   "metadata": {},
   "source": [
    "## Introduction\n",
    "This tutorial will demonstrate how to use the GPU functionality of openpiv-python-gpu.\n",
    "Use the following link to run this using GPUs from Google Colab."
   ]
  },
  {
   "cell_type": "markdown",
   "metadata": {},
   "source": [
    "[![Open In Colab](https://colab.research.google.com/assets/colab-badge.svg)](https://colab.research.google.com/github/ericyang125/gpu-mp/blob/object-oriented-framework/Openpiv_Python_Tutorial_Basic.ipynb)\n",
    "\n",
    "Ensure that GPU acceleration is enabled in Google Colab: Runtime > Change runtime type"
   ]
  },
  {
   "cell_type": "markdown",
   "metadata": {
    "pycharm": {
     "name": "#%% md\n"
    }
   },
   "source": [
    "### openpiv.gpu_process.gpu_piv_def(frame_a, frame_b, **pars)\n",
    "This advanced function uses windows displacment and deformation to handle higher velocity gradients.\n",
    "\n",
    "Parameters:\n",
    "\n",
    "    frame_a, frame_b : array_like\n",
    "        2D, Image data as arrays. Floats are cast to int32.\n",
    "    window_sizes : tuple or int\n",
    "        Window sizes to interrogate over. Default is (32, 16).\n",
    "    iterations : tuple or int\n",
    "        Number of iterations to perform. Default is 1.\n",
    "    overlap_ratio : float\n",
    "        Ratio of overlap of interrogation windows to size of windows. Default is 0.5.\n",
    "    mask : array_like\n",
    "        2D bool, mask to apply to the image field. If None, no points are masked. Default is None.\n",
    "    win_def : bool\n",
    "        Whether to apply deformation using the gradient computed on the results of the previous iteration. Default is True.\n",
    "    dt : int\n",
    "        Time separation between frames. The velcity vectors are scaled by the inverse of this quantity. Default is 1.\n",
    "    nb_validation_iter : tuple or int\n",
    "        Number of validation iterations to perform each iteration. Default is 1.\n",
    "    median_tol : float\n",
    "        Tolerance of the median validation. Equal to (value at point - median of surrounding points) / (median of (value of surrounding points - median of surrounding pointss)). Default is 2.\n",
    "    trust_1st_iter : bool\n",
    "        Whether the validation is performed on the first iteration. Typically can be set to False for 62 px windows. Default is True.\n",
    "\n",
    "Returns:\n",
    "\n",
    "    x, y : ndarray\n",
    "        Coordinates of the velocity vectors.\n",
    "    u, v : ndarray\n",
    "        Resulting velocity field.\n",
    "    mask : ndarray\n",
    "        The masked points on the returned coordinates\n",
    "    s2n : ndarray\n",
    "        The signal-to-noise ratio at each point of the result."
   ]
  },
  {
   "cell_type": "markdown",
   "metadata": {
    "pycharm": {
     "name": "#%% md\n"
    }
   },
   "source": [
    "### Example"
   ]
  },
  {
   "cell_type": "markdown",
   "metadata": {},
   "source": [
    "Code to install PyCUDA into Google Colab environment."
   ]
  },
  {
   "cell_type": "code",
   "execution_count": null,
   "metadata": {},
   "outputs": [],
   "source": [
    "# check that GPU is connect. Should say CUDA Version 1x.x\n",
    "!nvidia-smi\n",
    "!nvcc --version"
   ]
  },
  {
   "cell_type": "code",
   "execution_count": null,
   "metadata": {
    "pycharm": {
     "name": "#%%\n"
    }
   },
   "outputs": [],
   "source": [
    "# install PyCUDA\n",
    "!pip3 install pycuda\n",
    "\n",
    "# install scikit-CUDA\n",
    "!pip3 install scikit-CUDA\n",
    "\n",
    "# install other requirements which may already be fulfilled\n",
    "!pip3 install cython imageio numpy matplotlib setuptools\n",
    "\n",
    "# clone the repo\n",
    "!git clone https://github.com/ericyang125/gpu-mp.git\n",
    "\n",
    "# install OpenPIV extensions\n",
    "!cd gpu-mp && python3 setup.py build_ext --inplace\n",
    "\n",
    "# put the repo on the python path\n",
    "!cd gpu-mp && export PYTHONPATH=$PYTHONPATH:$PWD"
   ]
  },
  {
   "cell_type": "code",
   "execution_count": null,
   "metadata": {},
   "outputs": [],
   "source": [
    "!wget https://raw.githubusercontent.com/ericyang125/gpu-mp/object-oriented-framework/openpiv/examples/test1/exp1_001_a.bmp\n",
    "!wget https://raw.githubusercontent.com/ericyang125/gpu-mp/object-oriented-framework/openpiv/examples/test1/exp1_001_b.bmp"
   ]
  },
  {
   "cell_type": "markdown",
   "metadata": {},
   "source": [
    "Python code"
   ]
  },
  {
   "cell_type": "code",
   "execution_count": null,
   "metadata": {},
   "outputs": [],
   "source": [
    "import os\n",
    "import sys\n",
    "import numpy\n",
    "import imageio as io\n",
    "\n",
    "# add OpenPIV to the python path\n",
    "sys.path.append(os.path.join(os.getcwd(), 'gpu-mp/'))\n",
    "\n",
    "# import the GPU module and the tools module\n",
    "import openpiv.gpu_process as gpu_process\n",
    "import openpiv.tools as tools"
   ]
  },
  {
   "cell_type": "code",
   "execution_count": 4,
   "metadata": {
    "pycharm": {
     "name": "#%%\n"
    }
   },
   "outputs": [],
   "source": [
    "# PIV parameters\n",
    "pars = {\n",
    "'window_sizes': (32, 16),\n",
    "'iterations': (1, 2),\n",
    "'overlap_ratio': 0.5,\n",
    "'mask': None,\n",
    "'win_def': True,\n",
    "'dt': 1,\n",
    "'nb_validation_iter': 1,\n",
    "'median_tol': 2,\n",
    "'trust_1st_iter': False\n",
    "}"
   ]
  },
  {
   "cell_type": "code",
   "execution_count": null,
   "metadata": {},
   "outputs": [],
   "source": [
    "# The images can be loaded using imageio.\n",
    "frame_a = io.imread('exp1_001_a.bmp')\n",
    "frame_b = io.imread('exp1_001_b.bmp')"
   ]
  },
  {
   "cell_type": "code",
   "execution_count": 3,
   "metadata": {
    "pycharm": {
     "name": "#%%\n"
    }
   },
   "outputs": [
    {
     "ename": "NameError",
     "evalue": "name 'openpiv' is not defined",
     "output_type": "error",
     "traceback": [
      "\u001b[1;31m---------------------------------------------------------------------------\u001b[0m",
      "\u001b[1;31mNameError\u001b[0m                                 Traceback (most recent call last)",
      "\u001b[1;32m<ipython-input-3-c096ef4274c4>\u001b[0m in \u001b[0;36m<module>\u001b[1;34m\u001b[0m\n\u001b[0;32m      1\u001b[0m \u001b[1;31m# The velocity fields are computed.\u001b[0m\u001b[1;33m\u001b[0m\u001b[1;33m\u001b[0m\u001b[1;33m\u001b[0m\u001b[0m\n\u001b[1;32m----> 2\u001b[1;33m x, y, u, v, mask, s2n = openpiv.gpu_process.WiDIM( frame_a.astype(np.int32), frame_b.astype(np.int32), np.ones(frame_a.shape, dtype=np.int32),\n\u001b[0m\u001b[0;32m      3\u001b[0m                                                      \u001b[0mmin_window_size\u001b[0m\u001b[1;33m,\u001b[0m\u001b[1;33m\u001b[0m\u001b[1;33m\u001b[0m\u001b[0m\n\u001b[0;32m      4\u001b[0m                                                      \u001b[0moverlap_ratio\u001b[0m\u001b[1;33m,\u001b[0m\u001b[1;33m\u001b[0m\u001b[1;33m\u001b[0m\u001b[0m\n\u001b[0;32m      5\u001b[0m                                                      \u001b[0mcoarse_factor\u001b[0m\u001b[1;33m,\u001b[0m\u001b[1;33m\u001b[0m\u001b[1;33m\u001b[0m\u001b[0m\n",
      "\u001b[1;31mNameError\u001b[0m: name 'openpiv' is not defined"
     ]
    }
   ],
   "source": [
    "# The velocity fields are computed.\n",
    "x, y, u, v, mask, s2n = gpu_process.gpu_piv_def(frame_a, frame_b, **pars)"
   ]
  },
  {
   "cell_type": "code",
   "execution_count": 5,
   "metadata": {},
   "outputs": [
    {
     "ename": "NameError",
     "evalue": "name 'tools' is not defined",
     "output_type": "error",
     "traceback": [
      "\u001b[1;31m---------------------------------------------------------------------------\u001b[0m",
      "\u001b[1;31mNameError\u001b[0m                                 Traceback (most recent call last)",
      "\u001b[1;32m<ipython-input-5-15f56d8567a7>\u001b[0m in \u001b[0;36m<module>\u001b[1;34m\u001b[0m\n\u001b[0;32m      1\u001b[0m \u001b[1;31m# Save the results to a text file.\u001b[0m\u001b[1;33m\u001b[0m\u001b[1;33m\u001b[0m\u001b[1;33m\u001b[0m\u001b[0m\n\u001b[1;32m----> 2\u001b[1;33m \u001b[0mtools\u001b[0m\u001b[1;33m.\u001b[0m\u001b[0msave\u001b[0m\u001b[1;33m(\u001b[0m\u001b[0mx\u001b[0m\u001b[1;33m,\u001b[0m \u001b[0my\u001b[0m\u001b[1;33m,\u001b[0m \u001b[0mu\u001b[0m\u001b[1;33m,\u001b[0m \u001b[0mv\u001b[0m\u001b[1;33m,\u001b[0m \u001b[0mmask\u001b[0m\u001b[1;33m,\u001b[0m \u001b[0ms2n\u001b[0m\u001b[1;33m,\u001b[0m \u001b[1;34m'exp1_001_gpu.txt'\u001b[0m\u001b[1;33m)\u001b[0m\u001b[1;33m\u001b[0m\u001b[1;33m\u001b[0m\u001b[0m\n\u001b[0m",
      "\u001b[1;31mNameError\u001b[0m: name 'tools' is not defined"
     ]
    }
   ],
   "source": [
    "# Save the results to a text file.\n",
    "tools.save(x, y, u, v, mask, 'exp1_001_gpu.txt')"
   ]
  },
  {
   "cell_type": "code",
   "execution_count": null,
   "metadata": {},
   "outputs": [],
   "source": [
    "# The results can be visualized using the openpiv.tools module.\n",
    "tools.display_vector_field('exp1_001_gpu.txt', scale=250, width=0.0025)"
   ]
  }
 ],
 "metadata": {
  "kernelspec": {
   "display_name": "Python 3",
   "language": "python",
   "name": "python3"
  },
  "language_info": {
   "codemirror_mode": {
    "name": "ipython",
    "version": 3
   },
   "file_extension": ".py",
   "mimetype": "text/x-python",
   "name": "python",
   "nbconvert_exporter": "python",
   "pygments_lexer": "ipython3",
   "version": "3.8.5"
  }
 },
 "nbformat": 4,
 "nbformat_minor": 1
}
