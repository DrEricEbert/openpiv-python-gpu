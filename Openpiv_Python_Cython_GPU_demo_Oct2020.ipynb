{
  "nbformat": 4,
  "nbformat_minor": 0,
  "metadata": {
    "colab": {
      "name": "Openpiv_Python_Cython_GPU_demo_Oct2020.ipynb",
      "provenance": [],
      "private_outputs": true,
      "collapsed_sections": []
    },
    "kernelspec": {
      "name": "python3",
      "display_name": "Python 3"
    },
    "accelerator": "GPU"
  },
  "cells": [
    {
      "cell_type": "code",
      "metadata": {
        "id": "y2zEBgVABLD8"
      },
      "source": [
        "!curl https://colab.chainer.org/install | sh -"
      ],
      "execution_count": null,
      "outputs": []
    },
    {
      "cell_type": "code",
      "metadata": {
        "id": "bztUxphUiWAR"
      },
      "source": [
        "! nvcc --version"
      ],
      "execution_count": null,
      "outputs": []
    },
    {
      "cell_type": "code",
      "metadata": {
        "id": "Ez_JnGBhQaV2"
      },
      "source": [
        "! pip install pycuda"
      ],
      "execution_count": null,
      "outputs": []
    },
    {
      "cell_type": "code",
      "metadata": {
        "id": "kWhscug26_Ju"
      },
      "source": [
        "# check to make sure PyCUDA installed properly\n",
        "import pycuda.autoinit"
      ],
      "execution_count": null,
      "outputs": []
    },
    {
      "cell_type": "code",
      "metadata": {
        "id": "nhsxCUgqNZzE"
      },
      "source": [
        "!pip install cython"
      ],
      "execution_count": null,
      "outputs": []
    },
    {
      "cell_type": "code",
      "metadata": {
        "id": "70rcCaKVv0N-"
      },
      "source": [
        "!# install scikits-cuda from github as the pip version cant find cusolver\n",
        "!pip install scikit-cuda"
      ],
      "execution_count": null,
      "outputs": []
    },
    {
      "cell_type": "code",
      "metadata": {
        "id": "ixK9-lJbgs6a"
      },
      "source": [
        "! pip install progressbar"
      ],
      "execution_count": null,
      "outputs": []
    },
    {
      "cell_type": "code",
      "metadata": {
        "id": "Rpdhrze08fXY"
      },
      "source": [
        "#!git clone https://github.com/CameronDallas5000/openpiv-python.git\n",
        "!git clone https://github.com/OpenPIV/openpiv-python-gpu.git\n",
        "import os, sys\n",
        "os.chdir('openpiv-python-gpu')\n",
        "sys.path.append(os.getcwd())\n",
        "!python setup.py build_ext --inplace\n",
        "!python setup.py install"
      ],
      "execution_count": null,
      "outputs": []
    },
    {
      "cell_type": "code",
      "metadata": {
        "id": "NU2fc-TFNmxP"
      },
      "source": [
        "import openpiv"
      ],
      "execution_count": null,
      "outputs": []
    },
    {
      "cell_type": "code",
      "metadata": {
        "id": "X_RvxJFuOZue"
      },
      "source": [
        "from openpiv import tools, process, validation, filters, scaling, pyprocess\n",
        "import numpy as np\n",
        "import matplotlib.pyplot as plt\n",
        "%matplotlib inline\n",
        "from IPython.display import display"
      ],
      "execution_count": null,
      "outputs": []
    },
    {
      "cell_type": "code",
      "metadata": {
        "id": "LCqvHHd-9vB_"
      },
      "source": [
        "!wget https://raw.githubusercontent.com/CameronDallas5000/openpiv-python/master/openpiv/examples/tutorial-part1/exp1_001_a.bmp\n",
        "!wget https://raw.githubusercontent.com/CameronDallas5000/openpiv-python/master/openpiv/examples/tutorial-part1/exp1_001_b.bmp\n",
        "!ls"
      ],
      "execution_count": null,
      "outputs": []
    },
    {
      "cell_type": "code",
      "metadata": {
        "id": "tyghpYPBTc_q"
      },
      "source": [
        "# from google.colab import files\n",
        "# files.upload() # choose exp1_001_b.bmp and _c.bmp"
      ],
      "execution_count": null,
      "outputs": []
    },
    {
      "cell_type": "code",
      "metadata": {
        "id": "IR92ibRrTilS"
      },
      "source": [
        "import imageio as io\n",
        "frame_a  = io.imread( 'exp1_001_a.bmp' )\n",
        "frame_b  = io.imread( 'exp1_001_b.bmp' )"
      ],
      "execution_count": null,
      "outputs": []
    },
    {
      "cell_type": "code",
      "metadata": {
        "id": "582KZU21TwGm"
      },
      "source": [
        "fig,ax = plt.subplots(1,2,figsize=(10,8))\n",
        "ax[0].imshow(frame_a,cmap=plt.cm.gray)\n",
        "ax[1].imshow(frame_b,cmap=plt.cm.gray)"
      ],
      "execution_count": null,
      "outputs": []
    },
    {
      "cell_type": "code",
      "metadata": {
        "id": "rpMmy19nIZPA"
      },
      "source": [
        ""
      ],
      "execution_count": null,
      "outputs": []
    },
    {
      "cell_type": "markdown",
      "metadata": {
        "id": "eYd4k2DfIaBw"
      },
      "source": [
        "# OpenPIV Python version"
      ]
    },
    {
      "cell_type": "code",
      "metadata": {
        "id": "wOC0zYVHT5Mm"
      },
      "source": [
        "winsize = 32 # pixels\n",
        "searchsize = 64  # pixels, search in image B\n",
        "overlap = 12 # pixels\n",
        "dt = 0.02 # sec"
      ],
      "execution_count": null,
      "outputs": []
    },
    {
      "cell_type": "code",
      "metadata": {
        "id": "AgZ_Kp3XUAp1"
      },
      "source": [
        "u, v, sig2noise = pyprocess.extended_search_area_piv( frame_a.astype(np.int32), frame_b.astype(np.int32), \n",
        "                                                     window_size=winsize, overlap=overlap, dt=dt, \n",
        "                                                     search_area_size=searchsize, sig2noise_method='peak2peak' )"
      ],
      "execution_count": null,
      "outputs": []
    },
    {
      "cell_type": "code",
      "metadata": {
        "id": "y2J7gaXpUEfy"
      },
      "source": [
        "x, y = pyprocess.get_coordinates( image_size=frame_a.shape, window_size=searchsize, overlap=overlap )"
      ],
      "execution_count": null,
      "outputs": []
    },
    {
      "cell_type": "code",
      "metadata": {
        "id": "ykcjY9-TUHpa"
      },
      "source": [
        "tools.save(x, y, u, v, np.zeros_like(u), 'exp1_001.txt' ) # no masking, all values are valid"
      ],
      "execution_count": null,
      "outputs": []
    },
    {
      "cell_type": "markdown",
      "metadata": {
        "id": "QiTJUjGlISN3"
      },
      "source": [
        "# OpenPIV Python-GPU version"
      ]
    },
    {
      "cell_type": "code",
      "metadata": {
        "id": "HN6VXtEPmYnp"
      },
      "source": [
        "from progressbar import *\n"
      ],
      "execution_count": null,
      "outputs": []
    },
    {
      "cell_type": "code",
      "metadata": {
        "id": "VrXv0SR7l4uD"
      },
      "source": [
        "import openpiv.gpu_process\n",
        "# reload(openpiv.gpu_process)"
      ],
      "execution_count": null,
      "outputs": []
    },
    {
      "cell_type": "code",
      "metadata": {
        "id": "uH-F9Ryphvyp"
      },
      "source": [
        "# gpu code parametes\n",
        "min_window_size = 32\n",
        "overlap_ratio = 0.5\n",
        "coarse_factor = 1\n",
        "nb_iter_max = 2"
      ],
      "execution_count": null,
      "outputs": []
    },
    {
      "cell_type": "code",
      "metadata": {
        "id": "Dj-oo1BLUrLA"
      },
      "source": [
        "x, y, u, v, mask = openpiv.gpu_process.WiDIM( frame_a.astype(np.int32), frame_b.astype(np.int32), np.ones(frame_a.shape, dtype=np.int32),\n",
        "                                                     min_window_size, \n",
        "                                                     overlap_ratio,\n",
        "                                                     coarse_factor,\n",
        "                                                     dt,\n",
        "                                                     nb_iter_max = nb_iter_max)"
      ],
      "execution_count": null,
      "outputs": []
    },
    {
      "cell_type": "code",
      "metadata": {
        "id": "o6931RnJehtP"
      },
      "source": [
        "tools.save(x, y, u, v, np.zeros_like(u), 'exp1_001_gpu.txt' )"
      ],
      "execution_count": null,
      "outputs": []
    },
    {
      "cell_type": "markdown",
      "metadata": {
        "id": "aITMf5f2Iozd"
      },
      "source": [
        "# OpenPIV Python-CPU (Cython) version"
      ]
    },
    {
      "cell_type": "code",
      "metadata": {
        "id": "eqzZ_a6xHQOn"
      },
      "source": [
        "x, y, u, v, mask = openpiv.process.WiDIM( frame_a.astype(np.int32), frame_b.astype(np.int32), np.ones(frame_a.shape, dtype=np.int32),\n",
        "                                                     min_window_size, \n",
        "                                                     overlap_ratio,\n",
        "                                                     coarse_factor,\n",
        "                                                     dt,\n",
        "                                                     nb_iter_max = nb_iter_max)"
      ],
      "execution_count": null,
      "outputs": []
    },
    {
      "cell_type": "code",
      "metadata": {
        "id": "X57HJpHCHxt-"
      },
      "source": [
        "tools.save(x, y, u, v, np.zeros_like(u), 'exp1_001_cpu.txt' )"
      ],
      "execution_count": null,
      "outputs": []
    },
    {
      "cell_type": "code",
      "metadata": {
        "id": "KlUXKOsRIF-G"
      },
      "source": [
        "tools.display_vector_field('exp1_001.txt', scale=5000, width=0.0025)\n",
        "tools.display_vector_field('exp1_001_cpu.txt', scale=5000, width=0.0025)\n",
        "tools.display_vector_field('exp1_001_gpu.txt', scale=5000, width=0.0025)"
      ],
      "execution_count": null,
      "outputs": []
    },
    {
      "cell_type": "code",
      "metadata": {
        "id": "9iI7CFnkIKPy"
      },
      "source": [
        ""
      ],
      "execution_count": null,
      "outputs": []
    }
  ]
}